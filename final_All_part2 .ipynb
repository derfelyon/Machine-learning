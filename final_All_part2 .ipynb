{
 "cells": [
  {
   "cell_type": "code",
   "execution_count": 1,
   "metadata": {},
   "outputs": [
    {
     "data": {
      "application/vnd.jupyter.widget-view+json": {
       "model_id": "95c28bc7287045c49e066a2bde1f2d37",
       "version_major": 2,
       "version_minor": 0
      },
      "text/plain": [
       "VBox()"
      ]
     },
     "metadata": {},
     "output_type": "display_data"
    },
    {
     "name": "stdout",
     "output_type": "stream",
     "text": [
      "Starting Spark application\n"
     ]
    },
    {
     "data": {
      "text/html": [
       "<table>\n",
       "<tr><th>ID</th><th>YARN Application ID</th><th>Kind</th><th>State</th><th>Spark UI</th><th>Driver log</th><th>Current session?</th></tr><tr><td>1</td><td>application_1628603339271_0003</td><td>pyspark</td><td>idle</td><td><a target=\"_blank\" href=\"http://ip-172-31-31-146.ec2.internal:20888/proxy/application_1628603339271_0003/\" class=\"emr-proxy-link\" emr-resource=\"j-KYQIOJ7J4V9J\n",
       "\" application-id=\"application_1628603339271_0003\">Link</a></td><td><a target=\"_blank\" href=\"http://ip-172-31-23-99.ec2.internal:8042/node/containerlogs/container_1628603339271_0003_01_000002/livy\" >Link</a></td><td>✔</td></tr></table>"
      ],
      "text/plain": [
       "<IPython.core.display.HTML object>"
      ]
     },
     "metadata": {},
     "output_type": "display_data"
    },
    {
     "data": {
      "application/vnd.jupyter.widget-view+json": {
       "model_id": "",
       "version_major": 2,
       "version_minor": 0
      },
      "text/plain": [
       "FloatProgress(value=0.0, bar_style='info', description='Progress:', layout=Layout(height='25px', width='50%'),…"
      ]
     },
     "metadata": {},
     "output_type": "display_data"
    },
    {
     "name": "stdout",
     "output_type": "stream",
     "text": [
      "SparkSession available as 'spark'.\n"
     ]
    },
    {
     "data": {
      "application/vnd.jupyter.widget-view+json": {
       "model_id": "",
       "version_major": 2,
       "version_minor": 0
      },
      "text/plain": [
       "FloatProgress(value=0.0, bar_style='info', description='Progress:', layout=Layout(height='25px', width='50%'),…"
      ]
     },
     "metadata": {},
     "output_type": "display_data"
    }
   ],
   "source": [
    "\n",
    "#Run this once, to create a file with 1st 11 rows from training file\n",
    "#!head -n 11 idc_train.csv > idc_train.small.csv\n",
    "#!wc -l idc_train.small.csv\n",
    "from pyspark.sql import SparkSession, SQLContext\n",
    "from pyspark import SparkConf, SparkContext\n",
    "conf = SparkConf()\n",
    "conf.set(\"spark.executor.memory\", \"10g\")\n",
    "conf.set(\"spark.driver.memory\", \"10g\")\n",
    "spark_context = SparkContext.getOrCreate(conf)\n",
    "spark = SparkSession(spark_context)"
   ]
  },
  {
   "cell_type": "code",
   "execution_count": 2,
   "metadata": {},
   "outputs": [
    {
     "data": {
      "application/vnd.jupyter.widget-view+json": {
       "model_id": "f97880b2fc7b43779330fb9f4a07fee0",
       "version_major": 2,
       "version_minor": 0
      },
      "text/plain": [
       "VBox()"
      ]
     },
     "metadata": {},
     "output_type": "display_data"
    },
    {
     "data": {
      "application/vnd.jupyter.widget-view+json": {
       "model_id": "",
       "version_major": 2,
       "version_minor": 0
      },
      "text/plain": [
       "FloatProgress(value=0.0, bar_style='info', description='Progress:', layout=Layout(height='25px', width='50%'),…"
      ]
     },
     "metadata": {},
     "output_type": "display_data"
    },
    {
     "name": "stdout",
     "output_type": "stream",
     "text": [
      "time: 3.69109998246131e-05"
     ]
    }
   ],
   "source": [
    "import timeit\n",
    "start = timeit.default_timer()\n",
    "stop =timeit.default_timer()\n",
    "print('time:',stop-start)"
   ]
  },
  {
   "cell_type": "code",
   "execution_count": 3,
   "metadata": {},
   "outputs": [
    {
     "data": {
      "application/vnd.jupyter.widget-view+json": {
       "model_id": "d5ac936bf2224922ac53b830f41d0e7c",
       "version_major": 2,
       "version_minor": 0
      },
      "text/plain": [
       "VBox()"
      ]
     },
     "metadata": {},
     "output_type": "display_data"
    },
    {
     "data": {
      "application/vnd.jupyter.widget-view+json": {
       "model_id": "",
       "version_major": 2,
       "version_minor": 0
      },
      "text/plain": [
       "FloatProgress(value=0.0, bar_style='info', description='Progress:', layout=Layout(height='25px', width='50%'),…"
      ]
     },
     "metadata": {},
     "output_type": "display_data"
    },
    {
     "name": "stdout",
     "output_type": "stream",
     "text": [
      "Collecting matplotlib\n",
      "  Using cached https://files.pythonhosted.org/packages/24/33/5568d443ba438d95d4db635dd69958056f087e57e1026bee56f959d53f9d/matplotlib-3.4.2-cp37-cp37m-manylinux1_x86_64.whl\n",
      "Requirement already satisfied: numpy>=1.16 in /usr/local/lib64/python3.7/site-packages (from matplotlib)\n",
      "Collecting pyparsing>=2.2.1 (from matplotlib)\n",
      "  Using cached https://files.pythonhosted.org/packages/8a/bb/488841f56197b13700afd5658fc279a2025a39e22449b7cf29864669b15d/pyparsing-2.4.7-py2.py3-none-any.whl\n",
      "Requirement already satisfied: python-dateutil>=2.7 in /usr/local/lib/python3.7/site-packages (from matplotlib)\n",
      "Collecting pillow>=6.2.0 (from matplotlib)\n",
      "  Using cached https://files.pythonhosted.org/packages/8e/7a/b047f6f80fdb02c0cca1d3761d71e9800bcf6d4874b71c9e6548ec59e156/Pillow-8.3.1-cp37-cp37m-manylinux_2_5_x86_64.manylinux1_x86_64.whl\n",
      "Collecting cycler>=0.10 (from matplotlib)\n",
      "  Using cached https://files.pythonhosted.org/packages/f7/d2/e07d3ebb2bd7af696440ce7e754c59dd546ffe1bbe732c8ab68b9c834e61/cycler-0.10.0-py2.py3-none-any.whl\n",
      "Collecting kiwisolver>=1.0.1 (from matplotlib)\n",
      "  Using cached https://files.pythonhosted.org/packages/d2/46/231de802ade4225b76b96cffe419cf3ce52bbe92e3b092cf12db7d11c207/kiwisolver-1.3.1-cp37-cp37m-manylinux1_x86_64.whl\n",
      "Requirement already satisfied: six>=1.5 in /usr/local/lib/python3.7/site-packages (from python-dateutil>=2.7->matplotlib)\n",
      "Installing collected packages: pyparsing, pillow, cycler, kiwisolver, matplotlib\n",
      "Successfully installed cycler-0.10.0 kiwisolver-1.3.1 matplotlib-3.4.2 pillow-8.3.1 pyparsing-2.4.7\n",
      "\n",
      "Collecting plotly.express\n",
      "  Using cached https://files.pythonhosted.org/packages/d4/d6/8a2906f51e073a4be80cab35cfa10e7a34853e60f3ed5304ac470852a08d/plotly_express-0.4.1-py2.py3-none-any.whl\n",
      "Collecting statsmodels>=0.9.0 (from plotly.express)\n",
      "  Using cached https://files.pythonhosted.org/packages/da/69/8eef30a6237c54f3c0b524140e2975f4b1eea3489b45eb3339574fc8acee/statsmodels-0.12.2-cp37-cp37m-manylinux1_x86_64.whl\n",
      "Collecting pandas>=0.20.0 (from plotly.express)\n",
      "  Using cached https://files.pythonhosted.org/packages/12/01/360d7f444f910ae16496c07e3f003cb8c641b4ca6c033408a4469a904df3/pandas-1.3.1.tar.gz\n",
      "    Complete output from command python setup.py egg_info:\n",
      "    Traceback (most recent call last):\n",
      "      File \"<string>\", line 1, in <module>\n",
      "      File \"/mnt/tmp/pip-build-0v_frbd3/pandas/setup.py\", line 650, in <module>\n",
      "        ext_modules=maybe_cythonize(extensions, compiler_directives=directives),\n",
      "      File \"/mnt/tmp/pip-build-0v_frbd3/pandas/setup.py\", line 414, in maybe_cythonize\n",
      "        raise RuntimeError(\"Cannot cythonize without Cython installed.\")\n",
      "    RuntimeError: Cannot cythonize without Cython installed.\n",
      "    \n",
      "    ----------------------------------------\n",
      "\n",
      "Collecting sklearn\n",
      "Collecting scikit-learn (from sklearn)\n",
      "  Using cached https://files.pythonhosted.org/packages/6f/6b/10881b09340d69d4a941e5624bfbf1ba853be8cdf2141077e66dda0b088e/scikit_learn-0.24.2-cp37-cp37m-manylinux1_x86_64.whl\n",
      "Collecting scipy>=0.19.1 (from scikit-learn->sklearn)\n",
      "  Using cached https://files.pythonhosted.org/packages/b5/6b/8bc0b61ebf824f8c3979a31368bbe38dd247590049a994ab0ed077cb56dc/scipy-1.7.1-cp37-cp37m-manylinux_2_5_x86_64.manylinux1_x86_64.whl\n",
      "Requirement already satisfied: numpy>=1.13.3 in /usr/local/lib64/python3.7/site-packages (from scikit-learn->sklearn)\n",
      "Requirement already satisfied: joblib>=0.11 in /usr/local/lib64/python3.7/site-packages (from scikit-learn->sklearn)\n",
      "Collecting threadpoolctl>=2.0.0 (from scikit-learn->sklearn)\n",
      "  Using cached https://files.pythonhosted.org/packages/c6/e8/c216b9b60cbba4642d3ca1bae7a53daa0c24426f662e0e3ce3dc7f6caeaa/threadpoolctl-2.2.0-py3-none-any.whl\n",
      "Installing collected packages: scipy, threadpoolctl, scikit-learn, sklearn\n",
      "Successfully installed scikit-learn-0.24.2 scipy-1.7.1 sklearn-0.0 threadpoolctl-2.2.0\n",
      "\n",
      "Collecting pandas==0.25.1\n",
      "  Using cached https://files.pythonhosted.org/packages/7e/ab/ea76361f9d3e732e114adcd801d2820d5319c23d0ac5482fa3b412db217e/pandas-0.25.1-cp37-cp37m-manylinux1_x86_64.whl\n",
      "Requirement already satisfied: pytz>=2017.2 in /usr/local/lib/python3.7/site-packages (from pandas==0.25.1)\n",
      "Requirement already satisfied: numpy>=1.13.3 in /usr/local/lib64/python3.7/site-packages (from pandas==0.25.1)\n",
      "Requirement already satisfied: python-dateutil>=2.6.1 in /usr/local/lib/python3.7/site-packages (from pandas==0.25.1)\n",
      "Requirement already satisfied: six>=1.5 in /usr/local/lib/python3.7/site-packages (from python-dateutil>=2.6.1->pandas==0.25.1)\n",
      "Installing collected packages: pandas\n",
      "Successfully installed pandas-0.25.1\n",
      "\n",
      "Collecting nominatim\n",
      "Installing collected packages: nominatim\n",
      "Successfully installed nominatim-0.1\n",
      "\n",
      "Collecting geopy\n",
      "  Using cached https://files.pythonhosted.org/packages/e1/e1/45f25e3d3acf26782888f847de7c958a2807a039210fb1016cc3fb9555c4/geopy-2.2.0-py3-none-any.whl\n",
      "Collecting geographiclib<2,>=1.49 (from geopy)\n",
      "  Using cached https://files.pythonhosted.org/packages/df/60/d1d4c4944f9726228faa80fbe2206c8ddfd9757791b2de2facb8818c5d74/geographiclib-1.52-py3-none-any.whl\n",
      "Installing collected packages: geographiclib, geopy\n",
      "Successfully installed geographiclib-1.52 geopy-2.2.0\n",
      "\n",
      "Collecting seaborn\n",
      "  Using cached https://files.pythonhosted.org/packages/68/ad/6c2406ae175f59ec616714e408979b674fe27b9587f79d59a528ddfbcd5b/seaborn-0.11.1-py3-none-any.whl\n",
      "Requirement already satisfied: numpy>=1.15 in /usr/local/lib64/python3.7/site-packages (from seaborn)\n",
      "Requirement already satisfied: scipy>=1.0 in /mnt/tmp/1628606419053-0/lib/python3.7/site-packages (from seaborn)\n",
      "Requirement already satisfied: matplotlib>=2.2 in /mnt/tmp/1628606419053-0/lib/python3.7/site-packages (from seaborn)\n",
      "Requirement already satisfied: pandas>=0.23 in /mnt/tmp/1628606419053-0/lib/python3.7/site-packages (from seaborn)\n",
      "Requirement already satisfied: pyparsing>=2.2.1 in /mnt/tmp/1628606419053-0/lib/python3.7/site-packages (from matplotlib>=2.2->seaborn)\n",
      "Requirement already satisfied: python-dateutil>=2.7 in /usr/local/lib/python3.7/site-packages (from matplotlib>=2.2->seaborn)\n",
      "Requirement already satisfied: pillow>=6.2.0 in /mnt/tmp/1628606419053-0/lib/python3.7/site-packages (from matplotlib>=2.2->seaborn)\n",
      "Requirement already satisfied: cycler>=0.10 in /mnt/tmp/1628606419053-0/lib/python3.7/site-packages (from matplotlib>=2.2->seaborn)\n",
      "Requirement already satisfied: kiwisolver>=1.0.1 in /mnt/tmp/1628606419053-0/lib/python3.7/site-packages (from matplotlib>=2.2->seaborn)\n",
      "Requirement already satisfied: pytz>=2017.2 in /usr/local/lib/python3.7/site-packages (from pandas>=0.23->seaborn)\n",
      "Requirement already satisfied: six>=1.5 in /usr/local/lib/python3.7/site-packages (from python-dateutil>=2.7->matplotlib>=2.2->seaborn)\n",
      "Installing collected packages: seaborn\n",
      "Successfully installed seaborn-0.11.1\n",
      "\n",
      "You are using pip version 9.0.1, however version 21.2.3 is available.\n",
      "You should consider upgrading via the 'pip install --upgrade pip' command.\n",
      "\n",
      "Command \"python setup.py egg_info\" failed with error code 1 in /mnt/tmp/pip-build-0v_frbd3/pandas/\n",
      "You are using pip version 9.0.1, however version 21.2.3 is available.\n",
      "You should consider upgrading via the 'pip install --upgrade pip' command.\n",
      "\n",
      "You are using pip version 9.0.1, however version 21.2.3 is available.\n",
      "You should consider upgrading via the 'pip install --upgrade pip' command.\n",
      "\n",
      "You are using pip version 9.0.1, however version 21.2.3 is available.\n",
      "You should consider upgrading via the 'pip install --upgrade pip' command.\n",
      "\n",
      "You are using pip version 9.0.1, however version 21.2.3 is available.\n",
      "You should consider upgrading via the 'pip install --upgrade pip' command.\n",
      "\n",
      "You are using pip version 9.0.1, however version 21.2.3 is available.\n",
      "You should consider upgrading via the 'pip install --upgrade pip' command.\n",
      "\n",
      "You are using pip version 9.0.1, however version 21.2.3 is available.\n",
      "You should consider upgrading via the 'pip install --upgrade pip' command."
     ]
    }
   ],
   "source": [
    "\n",
    "sc.install_pypi_package(\"matplotlib\")\n",
    "sc.install_pypi_package(\"plotly.express\")\n",
    "sc.install_pypi_package(\"sklearn\")\n",
    "sc.install_pypi_package(\"pandas==0.25.1\")\n",
    "sc.install_pypi_package(\"nominatim\")\n",
    "sc.install_pypi_package(\"geopy\")\n",
    "sc.install_pypi_package(\"seaborn\")"
   ]
  },
  {
   "cell_type": "code",
   "execution_count": 4,
   "metadata": {},
   "outputs": [
    {
     "data": {
      "application/vnd.jupyter.widget-view+json": {
       "model_id": "5b258c0a9a524ec284b2c2e4a90e80a7",
       "version_major": 2,
       "version_minor": 0
      },
      "text/plain": [
       "VBox()"
      ]
     },
     "metadata": {},
     "output_type": "display_data"
    },
    {
     "data": {
      "application/vnd.jupyter.widget-view+json": {
       "model_id": "",
       "version_major": 2,
       "version_minor": 0
      },
      "text/plain": [
       "FloatProgress(value=0.0, bar_style='info', description='Progress:', layout=Layout(height='25px', width='50%'),…"
      ]
     },
     "metadata": {},
     "output_type": "display_data"
    }
   ],
   "source": [
    "import numpy as np\n",
    "from pyspark.sql.types import StructType, StructField\n",
    "from pyspark.sql.types import DoubleType, IntegerType, StringType, FloatType, ByteType, DateType, TimestampType\n",
    "from pyspark.sql import SparkSession, SQLContext\n",
    "from pyspark import SparkConf, SparkContext\n",
    "from pyspark.sql.functions import to_date, dayofweek, hour\n",
    "from  pyspark.sql.functions import avg, col \n",
    "import  pyspark.sql.functions as f\n",
    "from  pyspark.sql.functions import avg, col,stddev\n",
    "import random\n",
    "import matplotlib\n",
    "import matplotlib.pyplot as plt\n",
    "from pyspark.ml.feature import OneHotEncoder, StringIndexer, VectorAssembler\n",
    "from pyspark.ml import Pipeline\n",
    "import pandas as pd\n",
    "from sklearn.metrics import confusion_matrix\n"
   ]
  },
  {
   "cell_type": "markdown",
   "metadata": {},
   "source": [
    "## Importing the data"
   ]
  },
  {
   "cell_type": "code",
   "execution_count": 5,
   "metadata": {},
   "outputs": [
    {
     "data": {
      "application/vnd.jupyter.widget-view+json": {
       "model_id": "8d652003c26e4d56937b2cbbe51f9cbd",
       "version_major": 2,
       "version_minor": 0
      },
      "text/plain": [
       "VBox()"
      ]
     },
     "metadata": {},
     "output_type": "display_data"
    },
    {
     "data": {
      "application/vnd.jupyter.widget-view+json": {
       "model_id": "",
       "version_major": 2,
       "version_minor": 0
      },
      "text/plain": [
       "FloatProgress(value=0.0, bar_style='info', description='Progress:', layout=Layout(height='25px', width='50%'),…"
      ]
     },
     "metadata": {},
     "output_type": "display_data"
    },
    {
     "name": "stdout",
     "output_type": "stream",
     "text": [
      "time: 2.825309737000225"
     ]
    }
   ],
   "source": [
    "start = timeit.default_timer()\n",
    "\n",
    "\n",
    "conf = SparkConf()\n",
    "conf.set(\"spark.executor.memory\", \"24g\")\n",
    "conf.set(\"spark.driver.memory\", \"24g\")\n",
    "conf.set(\"spark.sql.session.timeZone\", \"UTC\")\n",
    "conf.set(\"spark.driver.maxResultSize\", \"4g\")\n",
    "spark_context = SparkContext.getOrCreate(conf)\n",
    "spark = SparkSession(spark_context)\n",
    "sc = spark.sparkContext\n",
    "sqlContext = SQLContext(sc)\n",
    "\n",
    "train = \"/user/hadoop/idc_train.csv\"\n",
    "test = \"/user/hadoop/idc_test.csv\"\n",
    "\n",
    "\n",
    "schema = StructType([\n",
    "    StructField(\"key\", IntegerType()),\n",
    "    StructField(\"fare_amount\", FloatType()),\n",
    "    StructField(\"pickup_datetime\", TimestampType()),\n",
    "    StructField(\"pickup_longitude\", FloatType()),\n",
    "    StructField(\"pickup_latitude\", FloatType()),\n",
    "    StructField(\"dropoff_longitude\", FloatType()),\n",
    "    StructField(\"dropoff_latitude\", FloatType()),\n",
    "    StructField(\"passenger_count\", FloatType())\n",
    "])\n",
    "\n",
    "X_train = spark.read.format(\"csv\").option(\"header\",\n",
    "                                          \"true\").schema(schema).option(\n",
    "                                              \"TimeStampFormat\",\n",
    "                                              \"yyyy-mm-dd hh:mm:ss\").load(train)\n",
    "\n",
    "\n",
    "stop =timeit.default_timer()\n",
    "print('time:',stop-start)"
   ]
  },
  {
   "cell_type": "code",
   "execution_count": 7,
   "metadata": {},
   "outputs": [
    {
     "data": {
      "application/vnd.jupyter.widget-view+json": {
       "model_id": "0533c1cae89f4d24bab7829235951cba",
       "version_major": 2,
       "version_minor": 0
      },
      "text/plain": [
       "VBox()"
      ]
     },
     "metadata": {},
     "output_type": "display_data"
    },
    {
     "data": {
      "application/vnd.jupyter.widget-view+json": {
       "model_id": "",
       "version_major": 2,
       "version_minor": 0
      },
      "text/plain": [
       "FloatProgress(value=0.0, bar_style='info', description='Progress:', layout=Layout(height='25px', width='50%'),…"
      ]
     },
     "metadata": {},
     "output_type": "display_data"
    },
    {
     "name": "stdout",
     "output_type": "stream",
     "text": [
      "+---+-----------+-------------------+----------------+---------------+-----------------+----------------+---------------+---------+\n",
      "|key|fare_amount|pickup_datetime    |pickup_longitude|pickup_latitude|dropoff_longitude|dropoff_latitude|passenger_count|high_fare|\n",
      "+---+-----------+-------------------+----------------+---------------+-----------------+----------------+---------------+---------+\n",
      "|1  |8.5        |2010-03-30 19:27:00|-73.96539       |40.768574      |-73.998184       |40.761074       |1.0            |0        |\n",
      "|7  |7.5        |2013-04-21 22:33:38|-73.964645      |40.760117      |-73.98311        |40.734978       |1.0            |0        |\n",
      "|17 |7.7        |2012-09-03 01:39:17|-73.996216      |40.742603      |-73.9973         |40.763718       |1.0            |0        |\n",
      "|24 |4.5        |2010-08-09 07:49:00|-73.98238       |40.764503      |-73.98455        |40.755737       |1.0            |0        |\n",
      "|46 |3.3        |2012-02-23 12:05:00|-73.96727       |40.769         |-73.96448        |40.76782        |1.0            |0        |\n",
      "|49 |12.5       |2013-08-26 20:10:00|-73.95865       |40.77268       |-73.956856       |40.767067       |1.0            |1        |\n",
      "|55 |7.0        |2012-10-18 18:56:21|-74.00381       |40.74197       |-73.996284       |40.73242        |4.0            |0        |\n",
      "|91 |8.0        |2014-08-09 14:54:00|-73.98375       |40.749866      |-73.980965       |40.76349        |1.0            |0        |\n",
      "|117|8.5        |2013-06-04 18:27:36|-73.98064       |40.783077      |-73.98491        |40.76811        |3.0            |0        |\n",
      "|122|11.3       |2011-08-06 19:00:00|-73.97829       |40.76648       |-73.987366       |40.756504       |2.0            |1        |\n",
      "|140|5.0        |2015-04-13 19:32:45|-73.98471       |40.77428       |-73.97489        |40.787815       |1.0            |0        |\n",
      "|169|17.0       |2015-04-25 18:41:40|-73.97623       |40.788822      |-73.973434       |40.752007       |1.0            |1        |\n",
      "|174|7.0        |2014-07-12 19:57:00|-74.00187       |40.75077       |-73.98988        |40.756866       |1.0            |0        |\n",
      "|227|13.7       |2010-06-17 00:10:00|-73.960045      |40.71055       |-73.988335       |40.75426        |5.0            |1        |\n",
      "|243|5.3        |2012-01-05 05:44:25|-73.99414       |40.750946      |-73.97753        |40.763737       |1.0            |0        |\n",
      "|258|5.3        |2010-10-28 20:37:00|-73.94949       |40.781067      |-73.96068        |40.76518        |1.0            |0        |\n",
      "|293|11.0       |2014-02-28 14:49:00|-73.94514       |40.77449       |-73.97534        |40.788006       |1.0            |1        |\n",
      "|299|30.9       |2011-10-06 15:11:00|-73.86385       |40.769794      |-73.99102        |40.682133       |2.0            |1        |\n",
      "|310|4.1        |2009-10-02 10:31:33|-74.00247       |40.739662      |-74.004326       |40.73176        |1.0            |0        |\n",
      "|338|6.9        |2009-11-24 18:56:00|-73.96292       |40.775494      |-73.96804        |40.7897         |1.0            |0        |\n",
      "+---+-----------+-------------------+----------------+---------------+-----------------+----------------+---------------+---------+\n",
      "only showing top 20 rows\n",
      "\n",
      "time: 143.15843575099962"
     ]
    }
   ],
   "source": [
    "start = timeit.default_timer()\n",
    "small_train = X_train.withColumn(\"high_fare\", (X_train.fare_amount>=10).cast(\"Byte\"))\n",
    "small_train.show(truncate=False)\n",
    "small_train.count(),len(small_train.columns)\n",
    "stop =timeit.default_timer()\n",
    "print('time:',stop-start)"
   ]
  },
  {
   "cell_type": "markdown",
   "metadata": {},
   "source": [
    "## Removing empty rows "
   ]
  },
  {
   "cell_type": "code",
   "execution_count": 8,
   "metadata": {},
   "outputs": [
    {
     "data": {
      "application/vnd.jupyter.widget-view+json": {
       "model_id": "9d401aed8d614c13a84180d3fd40c50c",
       "version_major": 2,
       "version_minor": 0
      },
      "text/plain": [
       "VBox()"
      ]
     },
     "metadata": {},
     "output_type": "display_data"
    },
    {
     "data": {
      "application/vnd.jupyter.widget-view+json": {
       "model_id": "",
       "version_major": 2,
       "version_minor": 0
      },
      "text/plain": [
       "FloatProgress(value=0.0, bar_style='info', description='Progress:', layout=Layout(height='25px', width='50%'),…"
      ]
     },
     "metadata": {},
     "output_type": "display_data"
    }
   ],
   "source": [
    "small_train_na=small_train.dropna()"
   ]
  },
  {
   "cell_type": "markdown",
   "metadata": {},
   "source": [
    "## Data cleaning\n"
   ]
  },
  {
   "cell_type": "code",
   "execution_count": 9,
   "metadata": {},
   "outputs": [
    {
     "data": {
      "application/vnd.jupyter.widget-view+json": {
       "model_id": "6a7d6cc8eb97425dbd567f037bff881e",
       "version_major": 2,
       "version_minor": 0
      },
      "text/plain": [
       "VBox()"
      ]
     },
     "metadata": {},
     "output_type": "display_data"
    },
    {
     "data": {
      "application/vnd.jupyter.widget-view+json": {
       "model_id": "",
       "version_major": 2,
       "version_minor": 0
      },
      "text/plain": [
       "FloatProgress(value=0.0, bar_style='info', description='Progress:', layout=Layout(height='25px', width='50%'),…"
      ]
     },
     "metadata": {},
     "output_type": "display_data"
    },
    {
     "name": "stdout",
     "output_type": "stream",
     "text": [
      "time: 99.04396487899976"
     ]
    }
   ],
   "source": [
    "start = timeit.default_timer()\n",
    "correctNegativeDiff = f.udf(lambda diff : None if diff <= 0.0 else diff, DoubleType())\n",
    "df = small_train_na.withColumn('fare_amount', correctNegativeDiff(small_train_na.fare_amount))\n",
    "df = df.na.fill(value = int(small_train_na.agg(avg(col(\"fare_amount\"))).collect()[0][0]),subset=[\"fare_amount\"])\n",
    "stop =timeit.default_timer()\n",
    "print('time:',stop-start)"
   ]
  },
  {
   "cell_type": "code",
   "execution_count": 10,
   "metadata": {},
   "outputs": [
    {
     "data": {
      "application/vnd.jupyter.widget-view+json": {
       "model_id": "0f6e8fdfcbaa4d2eb5d30be145ccbd10",
       "version_major": 2,
       "version_minor": 0
      },
      "text/plain": [
       "VBox()"
      ]
     },
     "metadata": {},
     "output_type": "display_data"
    },
    {
     "data": {
      "application/vnd.jupyter.widget-view+json": {
       "model_id": "",
       "version_major": 2,
       "version_minor": 0
      },
      "text/plain": [
       "FloatProgress(value=0.0, bar_style='info', description='Progress:', layout=Layout(height='25px', width='50%'),…"
      ]
     },
     "metadata": {},
     "output_type": "display_data"
    },
    {
     "name": "stdout",
     "output_type": "stream",
     "text": [
      "time: 133.6514759370002"
     ]
    }
   ],
   "source": [
    "start = timeit.default_timer()\n",
    "correctNegativeDiff = f.udf(lambda diff : None if diff < 0 else diff, DoubleType())\n",
    "df = df.withColumn('passenger_count', correctNegativeDiff(df.passenger_count))\n",
    "\n",
    "df = df.na.fill(value = int(df.agg(avg(col(\"passenger_count\"))).collect()[0][0]),subset=[\"passenger_count\"])\n",
    "stop =timeit.default_timer()\n",
    "print('time:',stop-start)"
   ]
  },
  {
   "cell_type": "markdown",
   "metadata": {},
   "source": [
    "### Spliting the Timestemp"
   ]
  },
  {
   "cell_type": "code",
   "execution_count": 11,
   "metadata": {},
   "outputs": [
    {
     "data": {
      "application/vnd.jupyter.widget-view+json": {
       "model_id": "4eeb8eb7420742aa84f17c348e76b696",
       "version_major": 2,
       "version_minor": 0
      },
      "text/plain": [
       "VBox()"
      ]
     },
     "metadata": {},
     "output_type": "display_data"
    },
    {
     "data": {
      "application/vnd.jupyter.widget-view+json": {
       "model_id": "",
       "version_major": 2,
       "version_minor": 0
      },
      "text/plain": [
       "FloatProgress(value=0.0, bar_style='info', description='Progress:', layout=Layout(height='25px', width='50%'),…"
      ]
     },
     "metadata": {},
     "output_type": "display_data"
    },
    {
     "name": "stdout",
     "output_type": "stream",
     "text": [
      "time: 0.0700478419994397"
     ]
    }
   ],
   "source": [
    "start = timeit.default_timer()\n",
    "df1 = df.withColumn('day_of_week',dayofweek(df.pickup_datetime))\n",
    "df1 = df1.withColumn('hour',f.hour(df1.pickup_datetime))\n",
    "df1 = df1.withColumn('year',f.year(df1.pickup_datetime))\n",
    "df1 = df1.withColumn('day_ofyear',f.dayofyear(df1.pickup_datetime))\n",
    "stop =timeit.default_timer()\n",
    "print('time:',stop-start)\n",
    "\n"
   ]
  },
  {
   "cell_type": "code",
   "execution_count": 12,
   "metadata": {},
   "outputs": [
    {
     "data": {
      "application/vnd.jupyter.widget-view+json": {
       "model_id": "bf3df6c254994e05aa689a2854903116",
       "version_major": 2,
       "version_minor": 0
      },
      "text/plain": [
       "VBox()"
      ]
     },
     "metadata": {},
     "output_type": "display_data"
    },
    {
     "data": {
      "application/vnd.jupyter.widget-view+json": {
       "model_id": "",
       "version_major": 2,
       "version_minor": 0
      },
      "text/plain": [
       "FloatProgress(value=0.0, bar_style='info', description='Progress:', layout=Layout(height='25px', width='50%'),…"
      ]
     },
     "metadata": {},
     "output_type": "display_data"
    },
    {
     "name": "stdout",
     "output_type": "stream",
     "text": [
      "+---+------------------+-------------------+----------------+---------------+-----------------+----------------+---------------+---------+\n",
      "|key|       fare_amount|    pickup_datetime|pickup_longitude|pickup_latitude|dropoff_longitude|dropoff_latitude|passenger_count|high_fare|\n",
      "+---+------------------+-------------------+----------------+---------------+-----------------+----------------+---------------+---------+\n",
      "|  1|               8.5|2010-03-30 19:27:00|       -73.96539|      40.768574|       -73.998184|       40.761074|            1.0|        0|\n",
      "|  7|               7.5|2013-04-21 22:33:38|      -73.964645|      40.760117|        -73.98311|       40.734978|            1.0|        0|\n",
      "| 17| 7.699999809265137|2012-09-03 01:39:17|      -73.996216|      40.742603|         -73.9973|       40.763718|            1.0|        0|\n",
      "| 24|               4.5|2010-08-09 07:49:00|       -73.98238|      40.764503|        -73.98455|       40.755737|            1.0|        0|\n",
      "| 46| 3.299999952316284|2012-02-23 12:05:00|       -73.96727|         40.769|        -73.96448|        40.76782|            1.0|        0|\n",
      "| 49|              12.5|2013-08-26 20:10:00|       -73.95865|       40.77268|       -73.956856|       40.767067|            1.0|        1|\n",
      "| 55|               7.0|2012-10-18 18:56:21|       -74.00381|       40.74197|       -73.996284|        40.73242|            4.0|        0|\n",
      "| 91|               8.0|2014-08-09 14:54:00|       -73.98375|      40.749866|       -73.980965|        40.76349|            1.0|        0|\n",
      "|117|               8.5|2013-06-04 18:27:36|       -73.98064|      40.783077|        -73.98491|        40.76811|            3.0|        0|\n",
      "|122|11.300000190734863|2011-08-06 19:00:00|       -73.97829|       40.76648|       -73.987366|       40.756504|            2.0|        1|\n",
      "+---+------------------+-------------------+----------------+---------------+-----------------+----------------+---------------+---------+\n",
      "only showing top 10 rows"
     ]
    }
   ],
   "source": [
    "df.show(10)"
   ]
  },
  {
   "cell_type": "markdown",
   "metadata": {},
   "source": [
    "## Removing outliers from the data\n"
   ]
  },
  {
   "cell_type": "code",
   "execution_count": 13,
   "metadata": {},
   "outputs": [
    {
     "data": {
      "application/vnd.jupyter.widget-view+json": {
       "model_id": "321b6ff09ad342f79470bbbe83b3bfd9",
       "version_major": 2,
       "version_minor": 0
      },
      "text/plain": [
       "VBox()"
      ]
     },
     "metadata": {},
     "output_type": "display_data"
    },
    {
     "data": {
      "application/vnd.jupyter.widget-view+json": {
       "model_id": "",
       "version_major": 2,
       "version_minor": 0
      },
      "text/plain": [
       "FloatProgress(value=0.0, bar_style='info', description='Progress:', layout=Layout(height='25px', width='50%'),…"
      ]
     },
     "metadata": {},
     "output_type": "display_data"
    },
    {
     "name": "stdout",
     "output_type": "stream",
     "text": [
      "-87.10636368706757 -57.953497274078074\n",
      "time: 505.6509300029993"
     ]
    }
   ],
   "source": [
    "start = timeit.default_timer()\n",
    "\n",
    "uper =  float(df1.agg(avg(col(\"pickup_longitude\"))).collect()[0][0] + df1.agg(stddev(col(\"pickup_longitude\"))).collect()[0][0])\n",
    "lower = float(df1.agg(avg(col(\"pickup_longitude\"))).collect()[0][0] - df1.agg(stddev(col(\"pickup_longitude\"))).collect()[0][0])\n",
    "print(lower,uper)\n",
    "correctNegativeDiff = f.udf(lambda diff : None if diff < lower or diff > uper  else diff, DoubleType())\n",
    "df2 = df1.withColumn('pickup_longitude', correctNegativeDiff(df.pickup_longitude))\n",
    "df2 = df2.na.fill(value = int(df2.agg(avg(col(\"pickup_longitude\"))).collect()[0][0]),subset=[\"pickup_longitude\"])\n",
    "\n",
    "stop =timeit.default_timer()\n",
    "print('time:',stop-start)"
   ]
  },
  {
   "cell_type": "code",
   "execution_count": 14,
   "metadata": {},
   "outputs": [
    {
     "data": {
      "application/vnd.jupyter.widget-view+json": {
       "model_id": "baadfe784565409eb536092e00834fca",
       "version_major": 2,
       "version_minor": 0
      },
      "text/plain": [
       "VBox()"
      ]
     },
     "metadata": {},
     "output_type": "display_data"
    },
    {
     "data": {
      "application/vnd.jupyter.widget-view+json": {
       "model_id": "",
       "version_major": 2,
       "version_minor": 0
      },
      "text/plain": [
       "FloatProgress(value=0.0, bar_style='info', description='Progress:', layout=Layout(height='25px', width='50%'),…"
      ]
     },
     "metadata": {},
     "output_type": "display_data"
    },
    {
     "name": "stdout",
     "output_type": "stream",
     "text": [
      "31.781657245256543 48.04587953372984\n",
      "time: 501.65040328099985"
     ]
    }
   ],
   "source": [
    "start = timeit.default_timer()\n",
    "\n",
    "uper =  float(df1.agg(avg(col(\"pickup_latitude\"))).collect()[0][0] + df1.agg(stddev(col(\"pickup_latitude\"))).collect()[0][0])\n",
    "lower = float(df1.agg(avg(col(\"pickup_latitude\"))).collect()[0][0] - df1.agg(stddev(col(\"pickup_latitude\"))).collect()[0][0])\n",
    "print(lower,uper)\n",
    "correctNegativeDiff = f.udf(lambda diff : None if diff < lower or diff > uper  else diff, DoubleType())\n",
    "df2 = df2.withColumn('pickup_latitude', correctNegativeDiff(df.pickup_latitude))\n",
    "df2 = df2.na.fill(value = int(df2.agg(avg(col(\"pickup_latitude\"))).collect()[0][0]),subset=[\"pickup_latitude\"])\n",
    "\n",
    "stop =timeit.default_timer()\n",
    "print('time:',stop-start)"
   ]
  },
  {
   "cell_type": "code",
   "execution_count": 15,
   "metadata": {},
   "outputs": [
    {
     "data": {
      "application/vnd.jupyter.widget-view+json": {
       "model_id": "51ef7f771afb4a628efbfbe28b61a0d7",
       "version_major": 2,
       "version_minor": 0
      },
      "text/plain": [
       "VBox()"
      ]
     },
     "metadata": {},
     "output_type": "display_data"
    },
    {
     "data": {
      "application/vnd.jupyter.widget-view+json": {
       "model_id": "",
       "version_major": 2,
       "version_minor": 0
      },
      "text/plain": [
       "FloatProgress(value=0.0, bar_style='info', description='Progress:', layout=Layout(height='25px', width='50%'),…"
      ]
     },
     "metadata": {},
     "output_type": "display_data"
    },
    {
     "name": "stdout",
     "output_type": "stream",
     "text": [
      "-85.8719946894955 -59.166466313539274\n",
      "time: 493.0760695220006"
     ]
    }
   ],
   "source": [
    "start = timeit.default_timer()\n",
    "\n",
    "uper =  float(df1.agg(avg(col(\"dropoff_longitude\"))).collect()[0][0] + df1.agg(stddev(col(\"dropoff_longitude\"))).collect()[0][0])\n",
    "lower = float(df1.agg(avg(col(\"dropoff_longitude\"))).collect()[0][0] - df1.agg(stddev(col(\"dropoff_longitude\"))).collect()[0][0])\n",
    "print(lower,uper)\n",
    "correctNegativeDiff = f.udf(lambda diff : None if diff < lower or diff > uper  else diff, DoubleType())\n",
    "df2 = df2.withColumn('dropoff_longitude', correctNegativeDiff(df.dropoff_longitude))\n",
    "df2 = df2.na.fill(value = int(df2.agg(avg(col(\"dropoff_longitude\"))).collect()[0][0]),subset=[\"dropoff_longitude\"])\n",
    "\n",
    "stop =timeit.default_timer()\n",
    "print('time:',stop-start)"
   ]
  },
  {
   "cell_type": "code",
   "execution_count": 16,
   "metadata": {},
   "outputs": [
    {
     "data": {
      "application/vnd.jupyter.widget-view+json": {
       "model_id": "4800fedeea0a44e39531d59b124652b7",
       "version_major": 2,
       "version_minor": 0
      },
      "text/plain": [
       "VBox()"
      ]
     },
     "metadata": {},
     "output_type": "display_data"
    },
    {
     "data": {
      "application/vnd.jupyter.widget-view+json": {
       "model_id": "",
       "version_major": 2,
       "version_minor": 0
      },
      "text/plain": [
       "FloatProgress(value=0.0, bar_style='info', description='Progress:', layout=Layout(height='25px', width='50%'),…"
      ]
     },
     "metadata": {},
     "output_type": "display_data"
    },
    {
     "name": "stdout",
     "output_type": "stream",
     "text": [
      "30.55854527588418 49.28420643889751\n",
      "time: 500.36333161899984"
     ]
    }
   ],
   "source": [
    "start = timeit.default_timer()\n",
    "\n",
    "uper =  float(df1.agg(avg(col(\"dropoff_latitude\"))).collect()[0][0] + df1.agg(stddev(col(\"dropoff_latitude\"))).collect()[0][0])\n",
    "lower = float(df1.agg(avg(col(\"dropoff_latitude\"))).collect()[0][0] - df1.agg(stddev(col(\"dropoff_latitude\"))).collect()[0][0])\n",
    "print(lower,uper)\n",
    "correctNegativeDiff = f.udf(lambda diff : None if diff < lower or diff > uper  else diff, DoubleType())\n",
    "df2 = df2.withColumn('dropoff_latitude', correctNegativeDiff(df.dropoff_latitude))\n",
    "df2 = df2.na.fill(value = int(df2.agg(avg(col(\"dropoff_latitude\"))).collect()[0][0]),subset=[\"dropoff_latitude\"])\n",
    "\n",
    "stop =timeit.default_timer()\n",
    "print('time:',stop-start)"
   ]
  },
  {
   "cell_type": "markdown",
   "metadata": {},
   "source": [
    "## Compute Distance 1 "
   ]
  },
  {
   "cell_type": "code",
   "execution_count": 17,
   "metadata": {},
   "outputs": [
    {
     "data": {
      "application/vnd.jupyter.widget-view+json": {
       "model_id": "15b076167d204ed9b0d5714e9fc22e86",
       "version_major": 2,
       "version_minor": 0
      },
      "text/plain": [
       "VBox()"
      ]
     },
     "metadata": {},
     "output_type": "display_data"
    },
    {
     "data": {
      "application/vnd.jupyter.widget-view+json": {
       "model_id": "",
       "version_major": 2,
       "version_minor": 0
      },
      "text/plain": [
       "FloatProgress(value=0.0, bar_style='info', description='Progress:', layout=Layout(height='25px', width='50%'),…"
      ]
     },
     "metadata": {},
     "output_type": "display_data"
    },
    {
     "name": "stdout",
     "output_type": "stream",
     "text": [
      "time: 0.046671168000102625"
     ]
    }
   ],
   "source": [
    "start = timeit.default_timer()\n",
    "\n",
    "df2 = df2.withColumn('distance', ((df2.pickup_longitude -df2.dropoff_longitude)**2 +(df2.pickup_latitude-df2.dropoff_latitude)**2)**0.5)\n",
    "\n",
    "stop =timeit.default_timer()\n",
    "print('time:',stop-start)"
   ]
  },
  {
   "cell_type": "markdown",
   "metadata": {},
   "source": [
    "## Compute Distanc 2"
   ]
  },
  {
   "cell_type": "code",
   "execution_count": 18,
   "metadata": {},
   "outputs": [
    {
     "data": {
      "application/vnd.jupyter.widget-view+json": {
       "model_id": "b015d3907bec455c83a1e3e803f3abd6",
       "version_major": 2,
       "version_minor": 0
      },
      "text/plain": [
       "VBox()"
      ]
     },
     "metadata": {},
     "output_type": "display_data"
    },
    {
     "data": {
      "application/vnd.jupyter.widget-view+json": {
       "model_id": "",
       "version_major": 2,
       "version_minor": 0
      },
      "text/plain": [
       "FloatProgress(value=0.0, bar_style='info', description='Progress:', layout=Layout(height='25px', width='50%'),…"
      ]
     },
     "metadata": {},
     "output_type": "display_data"
    },
    {
     "name": "stdout",
     "output_type": "stream",
     "text": [
      "time: 0.09895281199987949"
     ]
    }
   ],
   "source": [
    "import  pyspark.sql.functions as F\n",
    "start = timeit.default_timer()\n",
    "\n",
    "df2= df2.withColumn(\"a\", (\n",
    "        F.pow(F.sin(F.radians(F.col(\"dropoff_latitude\") - F.col(\"pickup_latitude\")) / 2), 2) +\n",
    "        F.cos(F.radians(F.col(\"pickup_latitude\"))) * F.cos(F.radians(F.col(\"dropoff_latitude\"))) *\n",
    "        F.pow(F.sin(F.radians(F.col(\"dropoff_longitude\") - F.col(\"pickup_longitude\")) / 2), 2)\n",
    "    )).withColumn(\"distance2\", F.atan2(F.sqrt(F.col(\"a\")), F.sqrt(-F.col(\"a\") + 1)) * 12742000)\n",
    "\n",
    "stop =timeit.default_timer()\n",
    "print('time:',stop-start)"
   ]
  },
  {
   "cell_type": "code",
   "execution_count": 19,
   "metadata": {},
   "outputs": [
    {
     "data": {
      "application/vnd.jupyter.widget-view+json": {
       "model_id": "ca6ea2b84e0a4bd899c5a3f7d373fd3e",
       "version_major": 2,
       "version_minor": 0
      },
      "text/plain": [
       "VBox()"
      ]
     },
     "metadata": {},
     "output_type": "display_data"
    },
    {
     "data": {
      "application/vnd.jupyter.widget-view+json": {
       "model_id": "",
       "version_major": 2,
       "version_minor": 0
      },
      "text/plain": [
       "FloatProgress(value=0.0, bar_style='info', description='Progress:', layout=Layout(height='25px', width='50%'),…"
      ]
     },
     "metadata": {},
     "output_type": "display_data"
    },
    {
     "name": "stdout",
     "output_type": "stream",
     "text": [
      "+---+------------------+-------------------+------------------+------------------+------------------+------------------+---------------+---------+-----------+----+----+----------+--------------------+--------------------+------------------+\n",
      "|key|       fare_amount|    pickup_datetime|  pickup_longitude|   pickup_latitude| dropoff_longitude|  dropoff_latitude|passenger_count|high_fare|day_of_week|hour|year|day_ofyear|            distance|                   a|         distance2|\n",
      "+---+------------------+-------------------+------------------+------------------+------------------+------------------+---------------+---------+-----------+----+----+----------+--------------------+--------------------+------------------+\n",
      "|  1|               8.5|2010-03-30 19:27:00|-73.96539306640625| 40.76857376098633|-73.99818420410156| 40.76107406616211|            1.0|        0|          3|  19|2010|        89|0.033637837828988916|5.125692859682867E-8|2884.7879409444267|\n",
      "|  7|               7.5|2013-04-21 22:33:38|-73.96464538574219| 40.76011657714844|-73.98310852050781| 40.73497772216797|            1.0|        0|          1|  22|2013|       111| 0.03119053342125891|6.302635595393785E-8|3198.8855656016117|\n",
      "| 17| 7.699999809265137|2012-09-03 01:39:17| -73.9962158203125| 40.74260330200195|-73.99729919433594| 40.76371765136719|            1.0|        0|          2|   1|2012|       247|0.021142124973422903|3.400210246452631...|2349.5813651991834|\n",
      "| 24|               4.5|2010-08-09 07:49:00|-73.98238372802734|40.764503479003906|-73.98455047607422|  40.7557373046875|            1.0|        0|          2|   7|2010|       221|  0.0090299839005536|6.057268496797391E-9| 991.6901819056874|\n",
      "| 46| 3.299999952316284|2012-02-23 12:05:00|-73.96726989746094| 40.76900100708008| -73.9644775390625|40.767818450927734|            1.0|        0|          5|  12|2012|        54|0.003032441999242606|4.470906749981864...| 269.4234584836929|\n",
      "| 49|              12.5|2013-08-26 20:10:00|-73.95864868164062| 40.77267837524414|-73.95685577392578|40.767066955566406|            1.0|        1|          2|  20|2013|       238|0.005890886934376758|2.538358306627373...| 641.9690101011095|\n",
      "| 55|               7.0|2012-10-18 18:56:21| -74.0038070678711| 40.74197006225586|-73.99628448486328|      40.732421875|            4.0|        0|          5|  18|2012|       292|0.012155539271557833|9.417036267702279E-9|1236.5017146609268|\n",
      "| 91|               8.0|2014-08-09 14:54:00|-73.98374938964844|  40.7498664855957|-73.98096466064453| 40.76348876953125|            1.0|        0|          7|  14|2014|       221|0.013904004288184578|1.447056057305294...|1532.7816042242825|\n",
      "|117|               8.5|2013-06-04 18:27:36|-73.98063659667969|40.783077239990234|-73.98490905761719| 40.76810836791992|            3.0|        0|          3|  18|2013|       155|0.015566664816840022|1.786086748972729...| 1702.898944356684|\n",
      "|122|11.300000190734863|2011-08-06 19:00:00|-73.97828674316406|  40.7664794921875|-73.98736572265625| 40.75650405883789|            2.0|        1|          7|  19|2011|       218| 0.01348840758325682|1.117935724502212...|1347.2432577335617|\n",
      "+---+------------------+-------------------+------------------+------------------+------------------+------------------+---------------+---------+-----------+----+----+----------+--------------------+--------------------+------------------+\n",
      "only showing top 10 rows"
     ]
    }
   ],
   "source": [
    "df2.show(10)"
   ]
  },
  {
   "cell_type": "markdown",
   "metadata": {},
   "source": [
    "### Plots"
   ]
  },
  {
   "cell_type": "code",
   "execution_count": 20,
   "metadata": {},
   "outputs": [
    {
     "data": {
      "application/vnd.jupyter.widget-view+json": {
       "model_id": "b1cbbe56d4754dd3bdf9754f89a805cc",
       "version_major": 2,
       "version_minor": 0
      },
      "text/plain": [
       "VBox()"
      ]
     },
     "metadata": {},
     "output_type": "display_data"
    },
    {
     "data": {
      "application/vnd.jupyter.widget-view+json": {
       "model_id": "",
       "version_major": 2,
       "version_minor": 0
      },
      "text/plain": [
       "FloatProgress(value=0.0, bar_style='info', description='Progress:', layout=Layout(height='25px', width='50%'),…"
      ]
     },
     "metadata": {},
     "output_type": "display_data"
    }
   ],
   "source": [
    "df_plots = df2.limit(10000)"
   ]
  },
  {
   "cell_type": "code",
   "execution_count": 21,
   "metadata": {},
   "outputs": [
    {
     "data": {
      "application/vnd.jupyter.widget-view+json": {
       "model_id": "3fe129a3ab064e6b917c4f0af2bfba2f",
       "version_major": 2,
       "version_minor": 0
      },
      "text/plain": [
       "VBox()"
      ]
     },
     "metadata": {},
     "output_type": "display_data"
    },
    {
     "data": {
      "application/vnd.jupyter.widget-view+json": {
       "model_id": "",
       "version_major": 2,
       "version_minor": 0
      },
      "text/plain": [
       "FloatProgress(value=0.0, bar_style='info', description='Progress:', layout=Layout(height='25px', width='50%'),…"
      ]
     },
     "metadata": {},
     "output_type": "display_data"
    }
   ],
   "source": [
    "df3=df_plots.toPandas()\n"
   ]
  },
  {
   "cell_type": "code",
   "execution_count": 22,
   "metadata": {},
   "outputs": [
    {
     "data": {
      "application/vnd.jupyter.widget-view+json": {
       "model_id": "145ed11019174556ad1bed8eb542782f",
       "version_major": 2,
       "version_minor": 0
      },
      "text/plain": [
       "VBox()"
      ]
     },
     "metadata": {},
     "output_type": "display_data"
    },
    {
     "data": {
      "application/vnd.jupyter.widget-view+json": {
       "model_id": "",
       "version_major": 2,
       "version_minor": 0
      },
      "text/plain": [
       "FloatProgress(value=0.0, bar_style='info', description='Progress:', layout=Layout(height='25px', width='50%'),…"
      ]
     },
     "metadata": {},
     "output_type": "display_data"
    },
    {
     "name": "stdout",
     "output_type": "stream",
     "text": [
      "Collecting plotly\n",
      "  Downloading https://files.pythonhosted.org/packages/95/8d/ac1560f7ccc2ace85cd1e9619bbec1975b5d2d92e6c6fdbbdaa994c6ab4d/plotly-5.1.0-py2.py3-none-any.whl (20.6MB)\n",
      "Requirement already satisfied: six in /usr/local/lib/python3.7/site-packages (from plotly)\n",
      "Collecting tenacity>=6.2.0 (from plotly)\n",
      "  Downloading https://files.pythonhosted.org/packages/f2/a5/f86bc8d67c979020438c8559cc70cfe3a1643fd160d35e09c9cca6a09189/tenacity-8.0.1-py3-none-any.whl\n",
      "Installing collected packages: tenacity, plotly\n",
      "Successfully installed plotly-5.1.0 tenacity-8.0.1\n",
      "\n",
      "You are using pip version 9.0.1, however version 21.2.3 is available.\n",
      "You should consider upgrading via the 'pip install --upgrade pip' command."
     ]
    }
   ],
   "source": [
    "sc.install_pypi_package(\"plotly\")"
   ]
  },
  {
   "cell_type": "code",
   "execution_count": 23,
   "metadata": {},
   "outputs": [
    {
     "data": {
      "application/vnd.jupyter.widget-view+json": {
       "model_id": "10741f0874664cc0b3134d40b82e67b5",
       "version_major": 2,
       "version_minor": 0
      },
      "text/plain": [
       "VBox()"
      ]
     },
     "metadata": {},
     "output_type": "display_data"
    },
    {
     "data": {
      "application/vnd.jupyter.widget-view+json": {
       "model_id": "",
       "version_major": 2,
       "version_minor": 0
      },
      "text/plain": [
       "FloatProgress(value=0.0, bar_style='info', description='Progress:', layout=Layout(height='25px', width='50%'),…"
      ]
     },
     "metadata": {},
     "output_type": "display_data"
    },
    {
     "data": {
      "image/png": "[encoded data removed]",
      "text/plain": [
       "<IPython.core.display.Image object>"
      ]
     },
     "metadata": {},
     "output_type": "display_data"
    }
   ],
   "source": [
    "plt.clf()\n",
    "import random\n",
    "import matplotlib\n",
    "import matplotlib.pyplot as plt\n",
    "import matplotlib.pyplot as mplt\n",
    "import plotly\n",
    "import plotly.express as px\n",
    "\n",
    "num_bins = 50\n",
    "n, bins, patches = plt.hist(df3['fare_amount'], num_bins, facecolor='green', alpha=0.5)\n",
    "plt.title(\"fair_amount distrbustion\")\n",
    "%matplot plt\n"
   ]
  },
  {
   "cell_type": "code",
   "execution_count": 24,
   "metadata": {},
   "outputs": [
    {
     "data": {
      "application/vnd.jupyter.widget-view+json": {
       "model_id": "edfecd9662f14951809f1e1c0e4bdaf2",
       "version_major": 2,
       "version_minor": 0
      },
      "text/plain": [
       "VBox()"
      ]
     },
     "metadata": {},
     "output_type": "display_data"
    },
    {
     "data": {
      "application/vnd.jupyter.widget-view+json": {
       "model_id": "",
       "version_major": 2,
       "version_minor": 0
      },
      "text/plain": [
       "FloatProgress(value=0.0, bar_style='info', description='Progress:', layout=Layout(height='25px', width='50%'),…"
      ]
     },
     "metadata": {},
     "output_type": "display_data"
    },
    {
     "data": {
      "image/png": "[encoded data removed]",
      "text/plain": [
       "<IPython.core.display.Image object>"
      ]
     },
     "metadata": {},
     "output_type": "display_data"
    }
   ],
   "source": [
    "plt.clf()\n",
    "\n",
    "plt.scatter(df3['fare_amount'], df3[\"distance2\"])\n",
    "\n",
    "plt.title(\"fare_amount Vs Distance \")\n",
    "plt.show()\n",
    "%matplot plt\n"
   ]
  },
  {
   "cell_type": "code",
   "execution_count": 25,
   "metadata": {},
   "outputs": [
    {
     "data": {
      "application/vnd.jupyter.widget-view+json": {
       "model_id": "f0cc382d8c48417abe8746e7f967730a",
       "version_major": 2,
       "version_minor": 0
      },
      "text/plain": [
       "VBox()"
      ]
     },
     "metadata": {},
     "output_type": "display_data"
    },
    {
     "data": {
      "application/vnd.jupyter.widget-view+json": {
       "model_id": "",
       "version_major": 2,
       "version_minor": 0
      },
      "text/plain": [
       "FloatProgress(value=0.0, bar_style='info', description='Progress:', layout=Layout(height='25px', width='50%'),…"
      ]
     },
     "metadata": {},
     "output_type": "display_data"
    },
    {
     "data": {
      "image/png": "[encoded data removed]",
      "text/plain": [
       "<IPython.core.display.Image object>"
      ]
     },
     "metadata": {},
     "output_type": "display_data"
    }
   ],
   "source": [
    "plt.clf()\n",
    "import seaborn as sns\n",
    "\n",
    "ax=sns.catplot(x=\"hour\", y=\"distance2\",kind=\"bar\",data=df3).set(title='Distribution of avrage length by pickup hours')\n",
    "\n",
    "plt.show()\n",
    "%matplot plt\n"
   ]
  },
  {
   "cell_type": "markdown",
   "metadata": {},
   "source": [
    "## preparing the Data from ML models "
   ]
  },
  {
   "cell_type": "code",
   "execution_count": 26,
   "metadata": {},
   "outputs": [
    {
     "data": {
      "application/vnd.jupyter.widget-view+json": {
       "model_id": "a48e59fb8fd642c7b53ba306d01644f3",
       "version_major": 2,
       "version_minor": 0
      },
      "text/plain": [
       "VBox()"
      ]
     },
     "metadata": {},
     "output_type": "display_data"
    },
    {
     "data": {
      "application/vnd.jupyter.widget-view+json": {
       "model_id": "",
       "version_major": 2,
       "version_minor": 0
      },
      "text/plain": [
       "FloatProgress(value=0.0, bar_style='info', description='Progress:', layout=Layout(height='25px', width='50%'),…"
      ]
     },
     "metadata": {},
     "output_type": "display_data"
    },
    {
     "name": "stdout",
     "output_type": "stream",
     "text": [
      "time: 0.07235412399950292"
     ]
    }
   ],
   "source": [
    "from pyspark.ml.feature import OneHotEncoder, StringIndexer, VectorAssembler\n",
    "from pyspark.ml.linalg import Vectors\n",
    "\n",
    "start = timeit.default_timer()\n",
    "\n",
    "\n",
    "categoricalColumns = [\"hour\",\"year\",\"day_ofyear\",\"passenger_count\"]\n",
    "stages = []\n",
    "\n",
    "for categoricalCol in categoricalColumns:\n",
    "    stringIndexer = StringIndexer(inputCol = categoricalCol, outputCol = categoricalCol + 'Index')\n",
    "    encoder = OneHotEncoder(inputCol=stringIndexer.getOutputCol(), outputCol=categoricalCol + \"classVec\")\n",
    "    stages += [stringIndexer, encoder]\n",
    "    \n",
    "label_stringIdx = StringIndexer(inputCol = 'high_fare', outputCol = 'label')\n",
    "\n",
    "stages += [label_stringIdx]\n",
    "\n",
    "numericCols = ['distance', 'distance2']\n",
    "\n",
    "assemblerInputs = [c + \"classVec\" for c in categoricalColumns] + numericCols\n",
    "\n",
    "assembler = VectorAssembler(inputCols=assemblerInputs, outputCol=\"features\")\n",
    "\n",
    "stages += [assembler]\n",
    "\n",
    "stop =timeit.default_timer()\n",
    "print('time:',stop-start)"
   ]
  },
  {
   "cell_type": "code",
   "execution_count": null,
   "metadata": {},
   "outputs": [],
   "source": []
  },
  {
   "cell_type": "code",
   "execution_count": 27,
   "metadata": {},
   "outputs": [
    {
     "data": {
      "application/vnd.jupyter.widget-view+json": {
       "model_id": "27231d525d1442b39b17b75c248a3051",
       "version_major": 2,
       "version_minor": 0
      },
      "text/plain": [
       "VBox()"
      ]
     },
     "metadata": {},
     "output_type": "display_data"
    },
    {
     "data": {
      "application/vnd.jupyter.widget-view+json": {
       "model_id": "",
       "version_major": 2,
       "version_minor": 0
      },
      "text/plain": [
       "FloatProgress(value=0.0, bar_style='info', description='Progress:', layout=Layout(height='25px', width='50%'),…"
      ]
     },
     "metadata": {},
     "output_type": "display_data"
    },
    {
     "name": "stdout",
     "output_type": "stream",
     "text": [
      "root\n",
      " |-- label: double (nullable = false)\n",
      " |-- features: vector (nullable = true)\n",
      "\n",
      "time: 520.8161286909999"
     ]
    }
   ],
   "source": [
    "start = timeit.default_timer()\n",
    "\n",
    "cols = df2.columns\n",
    "pipeline = Pipeline(stages = stages) \n",
    "pipelineModel = pipeline.fit(df2)\n",
    "df2 = pipelineModel.transform(df2)\n",
    "selectedCols = ['label', 'features'] \n",
    "df2 = df2.select(selectedCols)\n",
    "df2.printSchema()\n",
    "\n",
    "stop =timeit.default_timer()\n",
    "print('time:',stop-start)"
   ]
  },
  {
   "cell_type": "code",
   "execution_count": 28,
   "metadata": {},
   "outputs": [
    {
     "data": {
      "application/vnd.jupyter.widget-view+json": {
       "model_id": "6a40a9e4321f4ce5b11f061206153ee9",
       "version_major": 2,
       "version_minor": 0
      },
      "text/plain": [
       "VBox()"
      ]
     },
     "metadata": {},
     "output_type": "display_data"
    },
    {
     "data": {
      "application/vnd.jupyter.widget-view+json": {
       "model_id": "",
       "version_major": 2,
       "version_minor": 0
      },
      "text/plain": [
       "FloatProgress(value=0.0, bar_style='info', description='Progress:', layout=Layout(height='25px', width='50%'),…"
      ]
     },
     "metadata": {},
     "output_type": "display_data"
    },
    {
     "name": "stdout",
     "output_type": "stream",
     "text": [
      "time: 0.009612127999389486"
     ]
    }
   ],
   "source": [
    "start = timeit.default_timer()\n",
    "\n",
    "train_df, test_df = df2.randomSplit([0.8, 0.2], seed=1000)\n",
    "\n",
    "stop =timeit.default_timer()\n",
    "print('time:',stop-start)"
   ]
  },
  {
   "cell_type": "markdown",
   "metadata": {},
   "source": [
    "## LogisticRegression Model"
   ]
  },
  {
   "cell_type": "code",
   "execution_count": 29,
   "metadata": {},
   "outputs": [
    {
     "data": {
      "application/vnd.jupyter.widget-view+json": {
       "model_id": "9449466c32a04ca7b0d7266929d71994",
       "version_major": 2,
       "version_minor": 0
      },
      "text/plain": [
       "VBox()"
      ]
     },
     "metadata": {},
     "output_type": "display_data"
    },
    {
     "data": {
      "application/vnd.jupyter.widget-view+json": {
       "model_id": "",
       "version_major": 2,
       "version_minor": 0
      },
      "text/plain": [
       "FloatProgress(value=0.0, bar_style='info', description='Progress:', layout=Layout(height='25px', width='50%'),…"
      ]
     },
     "metadata": {},
     "output_type": "display_data"
    },
    {
     "name": "stdout",
     "output_type": "stream",
     "text": [
      "time: 216.2857886440006"
     ]
    }
   ],
   "source": [
    "start = timeit.default_timer()\n",
    "\n",
    "from pyspark.ml.classification import LogisticRegression\n",
    "lr = LogisticRegression(featuresCol = 'features', labelCol = 'label', maxIter=10)\n",
    "lrModel = lr.fit(train_df)\n",
    "\n",
    "stop =timeit.default_timer()\n",
    "print('time:',stop-start)"
   ]
  },
  {
   "cell_type": "code",
   "execution_count": 30,
   "metadata": {},
   "outputs": [
    {
     "data": {
      "application/vnd.jupyter.widget-view+json": {
       "model_id": "58812861e12047da8ae60e96f76291f2",
       "version_major": 2,
       "version_minor": 0
      },
      "text/plain": [
       "VBox()"
      ]
     },
     "metadata": {},
     "output_type": "display_data"
    },
    {
     "data": {
      "application/vnd.jupyter.widget-view+json": {
       "model_id": "",
       "version_major": 2,
       "version_minor": 0
      },
      "text/plain": [
       "FloatProgress(value=0.0, bar_style='info', description='Progress:', layout=Layout(height='25px', width='50%'),…"
      ]
     },
     "metadata": {},
     "output_type": "display_data"
    },
    {
     "name": "stdout",
     "output_type": "stream",
     "text": [
      "Training set areaUnderROC: 0.9176927348408405"
     ]
    }
   ],
   "source": [
    "plt.clf()\n",
    "\n",
    "trainingSummary = lrModel.summary\n",
    "roc = trainingSummary.roc.toPandas()\n",
    "plt.plot(roc['FPR'],roc['TPR'])\n",
    "plt.ylabel('False Positive Rate')\n",
    "plt.xlabel('True Positive Rate')\n",
    "plt.title('ROC Curve')\n",
    "plt.show()\n",
    "%matplot plt\n",
    "print('Training set areaUnderROC: ' + str(trainingSummary.areaUnderROC))"
   ]
  },
  {
   "cell_type": "code",
   "execution_count": 31,
   "metadata": {},
   "outputs": [
    {
     "data": {
      "application/vnd.jupyter.widget-view+json": {
       "model_id": "5e0b4ea09eb341a4913e0a21ae95ef36",
       "version_major": 2,
       "version_minor": 0
      },
      "text/plain": [
       "VBox()"
      ]
     },
     "metadata": {},
     "output_type": "display_data"
    },
    {
     "data": {
      "application/vnd.jupyter.widget-view+json": {
       "model_id": "",
       "version_major": 2,
       "version_minor": 0
      },
      "text/plain": [
       "FloatProgress(value=0.0, bar_style='info', description='Progress:', layout=Layout(height='25px', width='50%'),…"
      ]
     },
     "metadata": {},
     "output_type": "display_data"
    },
    {
     "data": {
      "image/png": "[encoded data removed]",
      "text/plain": [
       "<IPython.core.display.Image object>"
      ]
     },
     "metadata": {},
     "output_type": "display_data"
    }
   ],
   "source": [
    "plt.clf()\n",
    "\n",
    "y_true = test_df.toPandas()[\"label\"].astype(int)\n",
    "y_pred = lrModel.transform(test_df).toPandas()[\"prediction\"].astype(int)\n",
    "\n",
    "data = confusion_matrix(y_true, y_pred)/len(y_true)\n",
    "df_cm = pd.DataFrame(data, columns=np.unique(y_true), index = np.unique(y_true))\n",
    "df_cm.index.name = 'Actual'\n",
    "df_cm.columns.name = 'Predicted'\n",
    "plt.figure(figsize = (10,7))\n",
    "sns.set(font_scale=1.4)#for label size\n",
    "sns.heatmap(df_cm, cmap=\"Blues\", annot=True,annot_kws={\"size\": 16})\n",
    "plt.title(\"confusion metrix\")\n",
    "plt.show()\n",
    "%matplot plt"
   ]
  },
  {
   "cell_type": "code",
   "execution_count": 32,
   "metadata": {},
   "outputs": [
    {
     "data": {
      "application/vnd.jupyter.widget-view+json": {
       "model_id": "fd804747b33c4910b6ca5e886305fe86",
       "version_major": 2,
       "version_minor": 0
      },
      "text/plain": [
       "VBox()"
      ]
     },
     "metadata": {},
     "output_type": "display_data"
    },
    {
     "data": {
      "application/vnd.jupyter.widget-view+json": {
       "model_id": "",
       "version_major": 2,
       "version_minor": 0
      },
      "text/plain": [
       "FloatProgress(value=0.0, bar_style='info', description='Progress:', layout=Layout(height='25px', width='50%'),…"
      ]
     },
     "metadata": {},
     "output_type": "display_data"
    },
    {
     "name": "stdout",
     "output_type": "stream",
     "text": [
      "Test Area Under ROC 0.9181247011308468"
     ]
    }
   ],
   "source": [
    "predictions = lrModel.transform(test_df)\n",
    "from pyspark.ml.evaluation import BinaryClassificationEvaluator\n",
    "evaluator = BinaryClassificationEvaluator()\n",
    "print('Test Area Under ROC', evaluator.evaluate(predictions))\n"
   ]
  },
  {
   "cell_type": "markdown",
   "metadata": {},
   "source": [
    "## Desion Tree Model "
   ]
  },
  {
   "cell_type": "code",
   "execution_count": 33,
   "metadata": {},
   "outputs": [
    {
     "data": {
      "application/vnd.jupyter.widget-view+json": {
       "model_id": "51378e416ed44831b57d86575e040ace",
       "version_major": 2,
       "version_minor": 0
      },
      "text/plain": [
       "VBox()"
      ]
     },
     "metadata": {},
     "output_type": "display_data"
    },
    {
     "data": {
      "application/vnd.jupyter.widget-view+json": {
       "model_id": "",
       "version_major": 2,
       "version_minor": 0
      },
      "text/plain": [
       "FloatProgress(value=0.0, bar_style='info', description='Progress:', layout=Layout(height='25px', width='50%'),…"
      ]
     },
     "metadata": {},
     "output_type": "display_data"
    },
    {
     "name": "stdout",
     "output_type": "stream",
     "text": [
      "time: 328.49399949599956"
     ]
    }
   ],
   "source": [
    "start = timeit.default_timer()\n",
    "\n",
    "from pyspark.ml.classification import DecisionTreeClassifier\n",
    "dt = DecisionTreeClassifier(featuresCol = 'features', labelCol = 'label', maxDepth = 3)\n",
    "dtModel = dt.fit(train_df)\n",
    "predictions = dtModel.transform(test_df)\n",
    "\n",
    "stop =timeit.default_timer()\n",
    "print('time:',stop-start)"
   ]
  },
  {
   "cell_type": "code",
   "execution_count": 34,
   "metadata": {},
   "outputs": [
    {
     "data": {
      "application/vnd.jupyter.widget-view+json": {
       "model_id": "c89274a06c6a4dd4a798d1a21fbf76a8",
       "version_major": 2,
       "version_minor": 0
      },
      "text/plain": [
       "VBox()"
      ]
     },
     "metadata": {},
     "output_type": "display_data"
    },
    {
     "data": {
      "application/vnd.jupyter.widget-view+json": {
       "model_id": "",
       "version_major": 2,
       "version_minor": 0
      },
      "text/plain": [
       "FloatProgress(value=0.0, bar_style='info', description='Progress:', layout=Layout(height='25px', width='50%'),…"
      ]
     },
     "metadata": {},
     "output_type": "display_data"
    },
    {
     "data": {
      "image/png": "[encoded data removed]",
      "text/plain": [
       "<IPython.core.display.Image object>"
      ]
     },
     "metadata": {},
     "output_type": "display_data"
    }
   ],
   "source": [
    "plt.clf()\n",
    "\n",
    "y_true = test_df.toPandas()[\"label\"].astype(int)\n",
    "y_pred = dtModel.transform(test_df).toPandas()[\"prediction\"].astype(int)\n",
    "\n",
    "data = confusion_matrix(y_true, y_pred)/len(y_true)\n",
    "df_cm = pd.DataFrame(data, columns=np.unique(y_true), index = np.unique(y_true))\n",
    "df_cm.index.name = 'Actual'\n",
    "df_cm.columns.name = 'Predicted'\n",
    "plt.figure(figsize = (10,7))\n",
    "sns.set(font_scale=1.4)#for label size\n",
    "sns.heatmap(df_cm, cmap=\"Blues\", annot=True,annot_kws={\"size\": 16})\n",
    "plt.title(\"confusion metrix\")\n",
    "plt.show()\n",
    "%matplot plt"
   ]
  },
  {
   "cell_type": "code",
   "execution_count": 35,
   "metadata": {},
   "outputs": [
    {
     "data": {
      "application/vnd.jupyter.widget-view+json": {
       "model_id": "a26c8e7931914863aff410ca051d4905",
       "version_major": 2,
       "version_minor": 0
      },
      "text/plain": [
       "VBox()"
      ]
     },
     "metadata": {},
     "output_type": "display_data"
    },
    {
     "data": {
      "application/vnd.jupyter.widget-view+json": {
       "model_id": "",
       "version_major": 2,
       "version_minor": 0
      },
      "text/plain": [
       "FloatProgress(value=0.0, bar_style='info', description='Progress:', layout=Layout(height='25px', width='50%'),…"
      ]
     },
     "metadata": {},
     "output_type": "display_data"
    },
    {
     "name": "stdout",
     "output_type": "stream",
     "text": [
      "Test Area Under ROC: 0.8116592185334964"
     ]
    }
   ],
   "source": [
    "evaluator = BinaryClassificationEvaluator()\n",
    "print(\"Test Area Under ROC: \" + str(evaluator.evaluate(predictions, {evaluator.metricName: \"areaUnderROC\"})))"
   ]
  },
  {
   "cell_type": "markdown",
   "metadata": {},
   "source": [
    "### Random Forest Classifier\n"
   ]
  },
  {
   "cell_type": "code",
   "execution_count": null,
   "metadata": {},
   "outputs": [],
   "source": [
    "from pyspark.ml.classification import RandomForestClassifier\n",
    "rf = RandomForestClassifier(featuresCol = 'features', labelCol = 'label')\n",
    "rfModel = rf.fit(train_df)\n",
    "predictions = rfModel.transform(test_df)\n",
    "predictions.select('hour', 'year', 'label', 'rawPrediction', 'prediction', 'probability').show(10)"
   ]
  },
  {
   "cell_type": "code",
   "execution_count": 37,
   "metadata": {},
   "outputs": [
    {
     "data": {
      "application/vnd.jupyter.widget-view+json": {
       "model_id": "c35815fe909248839d2fdcb1a090e76f",
       "version_major": 2,
       "version_minor": 0
      },
      "text/plain": [
       "VBox()"
      ]
     },
     "metadata": {},
     "output_type": "display_data"
    },
    {
     "data": {
      "application/vnd.jupyter.widget-view+json": {
       "model_id": "",
       "version_major": 2,
       "version_minor": 0
      },
      "text/plain": [
       "FloatProgress(value=0.0, bar_style='info', description='Progress:', layout=Layout(height='25px', width='50%'),…"
      ]
     },
     "metadata": {},
     "output_type": "display_data"
    },
    {
     "data": {
      "image/png": "[encoded data removed]",
      "text/plain": [
       "<IPython.core.display.Image object>"
      ]
     },
     "metadata": {},
     "output_type": "display_data"
    }
   ],
   "source": [
    "plt.clf()\n",
    "\n",
    "y_true = test_df.toPandas()[\"label\"].astype(int)\n",
    "y_pred = rfModel.transform(test_df).toPandas()[\"prediction\"].astype(int)\n",
    "\n",
    "data = confusion_matrix(y_true, y_pred)/len(y_true)\n",
    "df_cm = pd.DataFrame(data, columns=np.unique(y_true), index = np.unique(y_true))\n",
    "df_cm.index.name = 'Actual'\n",
    "df_cm.columns.name = 'Predicted'\n",
    "plt.figure(figsize = (10,7))\n",
    "sns.set(font_scale=1.4)#for label size\n",
    "sns.heatmap(df_cm, cmap=\"Blues\", annot=True,annot_kws={\"size\": 16})\n",
    "plt.title(\"confusion metrix\")\n",
    "plt.show()\n",
    "%matplot plt"
   ]
  },
  {
   "cell_type": "code",
   "execution_count": 38,
   "metadata": {},
   "outputs": [
    {
     "data": {
      "application/vnd.jupyter.widget-view+json": {
       "model_id": "f029573e20a647249072938bfc256e52",
       "version_major": 2,
       "version_minor": 0
      },
      "text/plain": [
       "VBox()"
      ]
     },
     "metadata": {},
     "output_type": "display_data"
    },
    {
     "data": {
      "application/vnd.jupyter.widget-view+json": {
       "model_id": "",
       "version_major": 2,
       "version_minor": 0
      },
      "text/plain": [
       "FloatProgress(value=0.0, bar_style='info', description='Progress:', layout=Layout(height='25px', width='50%'),…"
      ]
     },
     "metadata": {},
     "output_type": "display_data"
    },
    {
     "name": "stdout",
     "output_type": "stream",
     "text": [
      "Test Area Under ROC: 0.8902996364198702"
     ]
    }
   ],
   "source": [
    "evaluator = BinaryClassificationEvaluator()\n",
    "print(\"Test Area Under ROC: \" + str(evaluator.evaluate(predictions, {evaluator.metricName: \"areaUnderROC\"})))"
   ]
  },
  {
   "cell_type": "markdown",
   "metadata": {},
   "source": [
    "### Gradient-Boosted Tree Classifier."
   ]
  },
  {
   "cell_type": "code",
   "execution_count": 39,
   "metadata": {},
   "outputs": [
    {
     "data": {
      "application/vnd.jupyter.widget-view+json": {
       "model_id": "ebbcca29b2e94097baf6590ba06ab908",
       "version_major": 2,
       "version_minor": 0
      },
      "text/plain": [
       "VBox()"
      ]
     },
     "metadata": {},
     "output_type": "display_data"
    },
    {
     "data": {
      "application/vnd.jupyter.widget-view+json": {
       "model_id": "",
       "version_major": 2,
       "version_minor": 0
      },
      "text/plain": [
       "FloatProgress(value=0.0, bar_style='info', description='Progress:', layout=Layout(height='25px', width='50%'),…"
      ]
     },
     "metadata": {},
     "output_type": "display_data"
    },
    {
     "name": "stdout",
     "output_type": "stream",
     "text": [
      "time: 444.72304093500134"
     ]
    }
   ],
   "source": [
    "start = timeit.default_timer()\n",
    "\n",
    "from pyspark.ml.classification import GBTClassifier\n",
    "gbt = GBTClassifier(maxIter=10)\n",
    "gbtModel = gbt.fit(train_df)\n",
    "predictions = gbtModel.transform(test_df)\n",
    "\n",
    "stop =timeit.default_timer()\n",
    "print('time:',stop-start)"
   ]
  },
  {
   "cell_type": "code",
   "execution_count": 40,
   "metadata": {},
   "outputs": [
    {
     "data": {
      "application/vnd.jupyter.widget-view+json": {
       "model_id": "07bbc72a3e8643d3a9728b094e8f01de",
       "version_major": 2,
       "version_minor": 0
      },
      "text/plain": [
       "VBox()"
      ]
     },
     "metadata": {},
     "output_type": "display_data"
    },
    {
     "data": {
      "application/vnd.jupyter.widget-view+json": {
       "model_id": "",
       "version_major": 2,
       "version_minor": 0
      },
      "text/plain": [
       "FloatProgress(value=0.0, bar_style='info', description='Progress:', layout=Layout(height='25px', width='50%'),…"
      ]
     },
     "metadata": {},
     "output_type": "display_data"
    }
   ],
   "source": [
    "from sklearn.metrics import confusion_matrix\n"
   ]
  },
  {
   "cell_type": "code",
   "execution_count": 41,
   "metadata": {},
   "outputs": [
    {
     "data": {
      "application/vnd.jupyter.widget-view+json": {
       "model_id": "8118a231980240aebf77d34290a03565",
       "version_major": 2,
       "version_minor": 0
      },
      "text/plain": [
       "VBox()"
      ]
     },
     "metadata": {},
     "output_type": "display_data"
    },
    {
     "data": {
      "application/vnd.jupyter.widget-view+json": {
       "model_id": "",
       "version_major": 2,
       "version_minor": 0
      },
      "text/plain": [
       "FloatProgress(value=0.0, bar_style='info', description='Progress:', layout=Layout(height='25px', width='50%'),…"
      ]
     },
     "metadata": {},
     "output_type": "display_data"
    },
    {
     "data": {
      "image/png": "[encoded data removed]",
      "text/plain": [
       "<IPython.core.display.Image object>"
      ]
     },
     "metadata": {},
     "output_type": "display_data"
    }
   ],
   "source": [
    "plt.clf()\n",
    "\n",
    "y_true = test_df.toPandas()[\"label\"].astype(int)\n",
    "y_pred = gbtModel.transform(test_df).toPandas()[\"prediction\"].astype(int)\n",
    "\n",
    "data = confusion_matrix(y_true, y_pred)/len(y_true)\n",
    "df_cm = pd.DataFrame(data, columns=np.unique(y_true), index = np.unique(y_true))\n",
    "df_cm.index.name = 'Actual'\n",
    "df_cm.columns.name = 'Predicted'\n",
    "plt.figure(figsize = (10,7))\n",
    "sns.set(font_scale=1.4)#for label size\n",
    "sns.heatmap(df_cm, cmap=\"Blues\", annot=True,annot_kws={\"size\": 16})\n",
    "plt.title(\"confusion metrix\")\n",
    "plt.show()\n",
    "%matplot plt"
   ]
  },
  {
   "cell_type": "code",
   "execution_count": 42,
   "metadata": {},
   "outputs": [
    {
     "data": {
      "application/vnd.jupyter.widget-view+json": {
       "model_id": "69cf82b542f9470186e40cafb85d1753",
       "version_major": 2,
       "version_minor": 0
      },
      "text/plain": [
       "VBox()"
      ]
     },
     "metadata": {},
     "output_type": "display_data"
    },
    {
     "data": {
      "application/vnd.jupyter.widget-view+json": {
       "model_id": "",
       "version_major": 2,
       "version_minor": 0
      },
      "text/plain": [
       "FloatProgress(value=0.0, bar_style='info', description='Progress:', layout=Layout(height='25px', width='50%'),…"
      ]
     },
     "metadata": {},
     "output_type": "display_data"
    },
    {
     "name": "stdout",
     "output_type": "stream",
     "text": [
      "Test Area Under ROC: 0.9333111209196923"
     ]
    }
   ],
   "source": [
    "evaluator = BinaryClassificationEvaluator()\n",
    "print(\"Test Area Under ROC: \" + str(evaluator.evaluate(predictions, {evaluator.metricName: \"areaUnderROC\"})))"
   ]
  },
  {
   "cell_type": "markdown",
   "metadata": {},
   "source": [
    "### cross validation\n"
   ]
  },
  {
   "cell_type": "code",
   "execution_count": null,
   "metadata": {},
   "outputs": [],
   "source": []
  },
  {
   "cell_type": "markdown",
   "metadata": {},
   "source": [
    "### Prep test Data\n"
   ]
  },
  {
   "cell_type": "code",
   "execution_count": null,
   "metadata": {},
   "outputs": [],
   "source": [
    "schema = StructType([\n",
    "    StructField(\"key\", IntegerType()),\n",
    "    StructField(\"pickup_datetime\", TimestampType()), # Will later extract date and time\n",
    "    StructField(\"pickup_longitude\", FloatType()),\n",
    "    StructField(\"pickup_latitude\", FloatType()),\n",
    "    StructField(\"dropoff_longitude\", FloatType()),\n",
    "    StructField(\"dropoff_latitude\", FloatType()),\n",
    "    StructField(\"passenger_count\", FloatType())\n",
    "])\n",
    "\n",
    "X_test = spark.read.format(\"csv\").option(\"header\",\n",
    "                                          \"true\").schema(schema).option(\n",
    "                                              \"TimeStampFormat\",\n",
    "                                              \"yyyy-mm-dd hh:mm:ss\").load(test) \n",
    "\n",
    "df = X_test\n",
    "df1 = df.withColumn('day_of_week',dayofweek(df.pickup_datetime))\n",
    "df1 = df1.withColumn('hour',f.hour(df1.pickup_datetime))\n",
    "df1 = df1.withColumn('year',f.year(df1.pickup_datetime))\n",
    "df1 = df1.withColumn('day_ofyear',f.dayofyear(df1.pickup_datetime))\n",
    "\n",
    "\n",
    "uper =  float(df1.agg(avg(col(\"pickup_longitude\"))).collect()[0][0] + df1.agg(stddev(col(\"pickup_longitude\"))).collect()[0][0])\n",
    "lower = float(df1.agg(avg(col(\"pickup_longitude\"))).collect()[0][0] - df1.agg(stddev(col(\"pickup_longitude\"))).collect()[0][0])\n",
    "print(lower,uper)\n",
    "correctNegativeDiff = f.udf(lambda diff : None if diff < lower or diff > uper  else diff, DoubleType())\n",
    "df2 = df1.withColumn('pickup_longitude', correctNegativeDiff(df.pickup_longitude))\n",
    "df2 = df2.na.fill(value = int(df2.agg(avg(col(\"pickup_longitude\"))).collect()[0][0]),subset=[\"pickup_longitude\"])\n",
    "\n",
    "uper =  float(df1.agg(avg(col(\"pickup_latitude\"))).collect()[0][0] + df1.agg(stddev(col(\"pickup_latitude\"))).collect()[0][0])\n",
    "lower = float(df1.agg(avg(col(\"pickup_latitude\"))).collect()[0][0] - df1.agg(stddev(col(\"pickup_latitude\"))).collect()[0][0])\n",
    "print(lower,uper)\n",
    "correctNegativeDiff = f.udf(lambda diff : None if diff < lower or diff > uper  else diff, DoubleType())\n",
    "df2 = df2.withColumn('pickup_latitude', correctNegativeDiff(df.pickup_latitude))\n",
    "df2 = df2.na.fill(value = int(df2.agg(avg(col(\"pickup_latitude\"))).collect()[0][0]),subset=[\"pickup_latitude\"])\n",
    "\n",
    "uper =  float(df1.agg(avg(col(\"dropoff_longitude\"))).collect()[0][0] + df1.agg(stddev(col(\"dropoff_longitude\"))).collect()[0][0])\n",
    "lower = float(df1.agg(avg(col(\"dropoff_longitude\"))).collect()[0][0] - df1.agg(stddev(col(\"dropoff_longitude\"))).collect()[0][0])\n",
    "print(lower,uper)\n",
    "correctNegativeDiff = f.udf(lambda diff : None if diff < lower or diff > uper  else diff, DoubleType())\n",
    "df2 = df2.withColumn('dropoff_longitude', correctNegativeDiff(df.dropoff_longitude))\n",
    "df2 = df2.na.fill(value = int(df2.agg(avg(col(\"dropoff_longitude\"))).collect()[0][0]),subset=[\"dropoff_longitude\"])\n",
    "\n",
    "uper =  float(df1.agg(avg(col(\"dropoff_latitude\"))).collect()[0][0] + df1.agg(stddev(col(\"dropoff_latitude\"))).collect()[0][0])\n",
    "lower = float(df1.agg(avg(col(\"dropoff_latitude\"))).collect()[0][0] - df1.agg(stddev(col(\"dropoff_latitude\"))).collect()[0][0])\n",
    "print(lower,uper)\n",
    "correctNegativeDiff = f.udf(lambda diff : None if diff < lower or diff > uper  else diff, DoubleType())\n",
    "df2 = df2.withColumn('dropoff_latitude', correctNegativeDiff(df.dropoff_latitude))\n",
    "df2 = df2.na.fill(value = int(df2.agg(avg(col(\"dropoff_latitude\"))).collect()[0][0]),subset=[\"dropoff_latitude\"])\n",
    "\n",
    "df2 = df2.withColumn('distance', ((df2.pickup_longitude -df2.dropoff_longitude)**2 +(df2.pickup_latitude-df2.dropoff_latitude)**2)**0.5)\n",
    "\n",
    "df2= df2.withColumn(\"a\", (\n",
    "        F.pow(F.sin(F.radians(F.col(\"dropoff_latitude\") - F.col(\"pickup_latitude\")) / 2), 2) +\n",
    "        F.cos(F.radians(F.col(\"pickup_latitude\"))) * F.cos(F.radians(F.col(\"dropoff_latitude\"))) *\n",
    "        F.pow(F.sin(F.radians(F.col(\"dropoff_longitude\") - F.col(\"pickup_longitude\")) / 2), 2)\n",
    "    )).withColumn(\"distance2\", F.atan2(F.sqrt(F.col(\"a\")), F.sqrt(-F.col(\"a\") + 1)) * 12742000)\n",
    "\n",
    "cols = df2.columns\n",
    "\n",
    "categoricalColumns = [\"hour\",\"year\",\"day_ofyear\",\"passenger_count\"]\n",
    "stages = []\n",
    "\n",
    "for categoricalCol in categoricalColumns:\n",
    "    stringIndexer = StringIndexer(inputCol = categoricalCol, outputCol = categoricalCol + 'Index')\n",
    "    encoder = OneHotEncoder(inputCol=stringIndexer.getOutputCol(), outputCol=categoricalCol + \"classVec\")\n",
    "    stages += [stringIndexer, encoder]\n",
    "    \n",
    "    \n",
    "numericCols = ['distance', 'distance2']\n",
    "\n",
    "assemblerInputs = [c + \"classVec\" for c in categoricalColumns] + numericCols\n",
    "\n",
    "assembler = VectorAssembler(inputCols=assemblerInputs, outputCol=\"features\")\n",
    "\n",
    "stages += [assembler]\n",
    "\n",
    "\n",
    "pipeline = Pipeline(stages = stages) \n",
    "pipelineModel = pipeline.fit(df2)\n",
    "df2 = pipelineModel.transform(df2)\n",
    "selectedCols = ['features'] \n",
    "df2 = df2.select(selectedCols)\n",
    "\n",
    "idc_test = df2\n",
    "\n",
    "predictions = gbtModel.transform(idc_test)\n",
    "\n",
    "predictions = predictions.toPandas()\n",
    "df = df.toPandas()\n",
    "\n",
    "\n",
    "df[\"prediction\"] = predictions[\"prediction\"]\n",
    "\n",
    "df.to_csv(\"/user/hadoop/to_test3.csv\")\n"
   ]
  },
  {
   "cell_type": "markdown",
   "metadata": {},
   "source": [
    "## ID:"
   ]
  },
  {
   "cell_type": "markdown",
   "metadata": {},
   "source": [
    "# 205570989   313288284\n"
   ]
  },
  {
   "cell_type": "code",
   "execution_count": null,
   "metadata": {},
   "outputs": [],
   "source": []
  }
 ],
 "metadata": {
  "kernelspec": {
   "display_name": "PySpark",
   "language": "",
   "name": "pysparkkernel"
  },
  "language_info": {
   "codemirror_mode": {
    "name": "python",
    "version": 3
   },
   "mimetype": "text/x-python",
   "name": "pyspark",
   "pygments_lexer": "python3"
  }
 },
 "nbformat": 4,
 "nbformat_minor": 5
}
